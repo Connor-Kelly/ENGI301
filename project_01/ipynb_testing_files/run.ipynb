{
 "cells": [
  {
   "cell_type": "code",
   "execution_count": null,
   "metadata": {},
   "outputs": [],
   "source": [
    "# Run !\n",
    "\n",
    "import encoder\n",
    "\n",
    "# ---\n",
    "\n",
    "from event_button import EventButton\n",
    "import Adafruit_BBIO.GPIO as GPIO\n",
    "from cursor import Cursor\n",
    "from spi_screen import SPI_Display as Display\n",
    "\n",
    "\n",
    "def go_up(self):\n",
    "    print(\"go up\")\n",
    "    d.display_image(c.cursor_up())\n",
    "\n",
    "\n",
    "\n",
    "def go_dn(self):\n",
    "    print(\"go down\")\n",
    "    d.display_image(c.cursor_dn())\n",
    "\n",
    "\n",
    "\n",
    "pinBtnUp = \"P2_22\"\n",
    "pinBtnDn = \"P2_24\"\n",
    "\n",
    "c = Cursor()\n",
    "d = Display()\n",
    "\n",
    "BtnUp = EventButton(pinBtnUp, GPIO.FALLING, go_up)\n",
    "BtnDn = EventButton(pinBtnDn, GPIO.FALLING, go_dn)\n",
    "\n"
   ]
  }
 ],
 "metadata": {
  "language_info": {
   "name": "python"
  },
  "orig_nbformat": 4
 },
 "nbformat": 4,
 "nbformat_minor": 2
}
