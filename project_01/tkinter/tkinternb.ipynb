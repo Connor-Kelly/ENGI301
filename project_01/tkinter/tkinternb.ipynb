{
 "cells": [
  {
   "cell_type": "code",
   "execution_count": 57,
   "metadata": {},
   "outputs": [],
   "source": [
    "# import customtkinter as ctk\n",
    "from tkinter import ttk\n",
    "import os\n",
    "from PIL import Image\n",
    "import tkinter\n",
    "# import tkinter.messagebox\n",
    "# import ctk"
   ]
  },
  {
   "cell_type": "code",
   "execution_count": 58,
   "metadata": {},
   "outputs": [],
   "source": [
    "ctk.set_appearance_mode(\"System\")  # Modes: \"System\" (standard), \"Dark\", \"Light\"\n",
    "ctk.set_default_color_theme(\"blue\")  # Themes: \"blue\" (standard), \"green\", \"dark-blue\""
   ]
  },
  {
   "cell_type": "code",
   "execution_count": 59,
   "metadata": {},
   "outputs": [],
   "source": [
    "main_width = 320\n",
    "main_height = 240\n",
    "text_standard = \"#8d99ae\"\n",
    "bg_selected = \"#636c7b\"\n",
    "bg_standard = \"#cadcfa\"\n",
    "# standard_btn_vec = {\"master\":self.navigation_frame, \"corner_radius\":0, \"height\":40, \"border_spacing\":10, \"fg_color\":\"transparent\", \"text_color\":(\"gray10\", \"gray90\"), \"hover_color\":(\"gray70\", \"gray30\"), \"anchor\":\"w\"}\n",
    "# root = ctk.CTk()\n",
    "# root.title(\"Music Box GUI\")\n",
    "# root.geometry(f\"{main_width}x{main_height}\")\n",
    "# root.columnconfigure(0, minsize=main_width)\n",
    "\n",
    "# configure grid layout (4x4)\n",
    "# self.grid_columnconfigure(1, weight=1)\n",
    "# self.grid_columnconfigure((2, 3), weight=0)\n",
    "# self.grid_rowconfigure((0, 1, 2), weight=1)"
   ]
  },
  {
   "cell_type": "code",
   "execution_count": 60,
   "metadata": {},
   "outputs": [],
   "source": [
    "# pageFrame = ctk.CTkFrame(master=root, width=main_width, height=main_height/3)\n",
    "# page_label = ctk.CTkLabel(master=pageFrame, text=\"Page\")\n",
    "# page_label.grid(row=0, column=0, padx= 20, pady=20)\n",
    "# subpage_label = ctk.CTkLabel(master=pageFrame, text=\"Subpage\")\n",
    "# subpage_label.grid(row=0, column=1, padx= 20, pady=20)\n",
    "# pageFrame.grid(row=0, column=0, padx=20, pady=20)"
   ]
  },
  {
   "cell_type": "code",
   "execution_count": 61,
   "metadata": {},
   "outputs": [],
   "source": [
    "\n",
    "class pageFrame(ctk.CTkFrame):\n",
    "    def __init__(self, master, **kwargs):\n",
    "        super().__init__(master, **kwargs)\n",
    "\n",
    "        # add widgets onto the frame...\n",
    "        page_label = ctk.CTkLabel(master=self, text=\"Page\")\n",
    "        page_label.grid(row=0, column=0, padx= 20, pady=20, sticky=\"ew\")\n",
    "        \n",
    "        subpage_label = ctk.CTkLabel(master=self, text=\"Subpage\")\n",
    "        subpage_label.grid(row=0, column=1, padx= 20, pady=20, sticky=\"ew\")"
   ]
  },
  {
   "cell_type": "code",
   "execution_count": 62,
   "metadata": {},
   "outputs": [],
   "source": [
    "class selectFrame(ctk.CTkFrame):\n",
    "    buttons = []\n",
    "    def __init__(self, master, **kwargs):\n",
    "        super().__init__(master, **kwargs)\n",
    "        textlist = [\"Home\", \"Playing\", \"Queue\"]\n",
    "        for i in range(len(textlist)):\n",
    "            name=textlist[i]\n",
    "            btn = ctk.CTkButton(master=self, corner_radius=0, height=40, border_spacing=10, text=name,\n",
    "                                                      fg_color=\"transparent\", text_color=\"gray90\", hover_color=\"gray30\",\n",
    "                                                      anchor=\"w\", command=self.selectPage(name))\n",
    "            btn.grid(row=i,column=0, sticky=\"ew\", padx=20, pady=5)\n",
    "            self.buttons += [btn]\n",
    "\n",
    "    def selectPage(self, name):\n",
    "        print(f\"clicked page from {name}\")\n",
    "        # for btn in self.buttons:\n",
    "        #     cur_name = btn.cget(\"text\")\n",
    "        #     new_color = bg_selected if name == btn.cget(\"text\") else \"transparent\"\n",
    "        #     print(f\"configuring {cur_name} to {new_color}\")\n",
    "        #     btn.configure(fg_color=(bg_selected if name == btn.cget(\"text\") else \"transparent\"))\n",
    "            # if btn.getc(\"text\")"
   ]
  },
  {
   "cell_type": "code",
   "execution_count": 63,
   "metadata": {},
   "outputs": [],
   "source": [
    "\n",
    "class App(ctk.CTk):\n",
    "    def __init__(self):\n",
    "        super().__init__()\n",
    "        self.geometry(f\"{main_width}x{main_height}\")\n",
    "        self.grid_rowconfigure(0, weight=1)  # configure grid system\n",
    "        self.grid_columnconfigure(0, weight=1)\n",
    "\n",
    "        self.my_frame = pageFrame(master=self, width=main_width, height=main_height/3)\n",
    "        self.my_frame.grid(row=0, column=0, padx=20, pady=20, sticky=\"ew\")\n",
    "\n",
    "        self.select_frame = selectFrame(master=self, width=main_width, height=main_height/3)\n",
    "        self.select_frame.grid(row=0, column=0, padx=20, pady=20, sticky=\"ew\")\n",
    "\n",
    "    #     self.navigation_frame = ctk.CTkFrame(self, corner_radius=0)\n",
    "    #     self.navigation_frame.grid(row=0, column=0, sticky=\"nsew\")\n",
    "    #     self.navigation_frame.grid_rowconfigure(4, weight=1)\n",
    "\n",
    "    #     # standard_btn_vec = {\"master\":self.navigation_frame, \"corner_radius\":0, \"height\":40, \"border_spacing\":10, \"fg_color\":\"transparent\", \"text_color\":(\"gray10\", \"gray90\"), \"hover_color\":(\"gray70\", \"gray30\"), \"anchor\":\"w\"}\n",
    "    #     self.navigation_frame_label = ctk.CTkLabel(self.navigation_frame, text=\"  Image Example\",\n",
    "    #                                                          compound=\"left\", font=ctk.CTkFont(size=15, weight=\"bold\"))\n",
    "    #     self.navigation_frame_label.grid(row=0, column=0, padx=20, pady=20)\n",
    "\n",
    "    #     self.home_button = ctk.CTkButton(self.navigation_frame, corner_radius=0, height=40, border_spacing=10, text=\"Home\",\n",
    "    #                                                   fg_color=\"transparent\", text_color=(\"gray10\", \"gray90\"), hover_color=(\"gray70\", \"gray30\"),\n",
    "    #                                                   anchor=\"w\", command=self.home_button_event)\n",
    "    #     self.home_button.grid(row=1, column=0, sticky=\"ew\")\n",
    "\n",
    "    #     self.frame_2_button = ctk.CTkButton(self.navigation_frame, corner_radius=0, height=40, border_spacing=10, text=\"Frame 2\",\n",
    "    #                                                   fg_color=\"transparent\", text_color=(\"gray10\", \"gray90\"), hover_color=(\"gray70\", \"gray30\"),\n",
    "    #                                                   anchor=\"w\", command=self.frame_2_button_event)\n",
    "    #     self.frame_2_button.grid(row=2, column=0, sticky=\"ew\")\n",
    "\n",
    "    #     self.frame_3_button = ctk.CTkButton(self.navigation_frame, corner_radius=0, height=40, border_spacing=10, text=\"Frame 3\",\n",
    "    #                                                   fg_color=\"transparent\", text_color=(\"gray10\", \"gray90\"), hover_color=(\"gray70\", \"gray30\"),\n",
    "    #                                                   anchor=\"w\", command=self.frame_3_button_event)\n",
    "    #     self.frame_3_button.grid(row=3, column=0, sticky=\"ew\")\n",
    "\n",
    "    # def select_frame_by_name(self, name):\n",
    "    #     # set button color for selected button\n",
    "    #     self.home_button.configure(fg_color=(bg_selected) if name == \"home\" else \"transparent\")\n",
    "    #     self.frame_2_button.configure(fg_color=(bg_selected) if name == \"frame_2\" else \"transparent\")\n",
    "    #     self.frame_3_button.configure(fg_color=(bg_selected) if name == \"frame_3\" else \"transparent\")\n",
    "\n",
    "    #     # show selected frame\n",
    "    #     if name == \"home\":\n",
    "    #         self.home_frame.grid(row=0, column=1, sticky=\"nsew\")\n",
    "    #     else:\n",
    "    #         self.home_frame.grid_forget()\n",
    "    #     if name == \"frame_2\":\n",
    "    #         self.second_frame.grid(row=0, column=1, sticky=\"nsew\")\n",
    "    #     else:\n",
    "    #         self.second_frame.grid_forget()\n",
    "    #     if name == \"frame_3\":\n",
    "    #         self.third_frame.grid(row=0, column=1, sticky=\"nsew\")\n",
    "    #     else:\n",
    "    #         self.third_frame.grid_forget()\n",
    "\n",
    "    # def home_button_event(self):\n",
    "    #     self.select_frame_by_name(\"home\")\n",
    "\n",
    "    # def frame_2_button_event(self):\n",
    "    #     self.select_frame_by_name(\"frame_2\")\n",
    "\n",
    "    # def frame_3_button_event(self):\n",
    "    #     self.select_frame_by_name(\"frame_3\")"
   ]
  },
  {
   "cell_type": "code",
   "execution_count": 64,
   "metadata": {},
   "outputs": [
    {
     "name": "stdout",
     "output_type": "stream",
     "text": [
      "clicked page from Home\n",
      "clicked page from Playing\n",
      "clicked page from Queue\n"
     ]
    },
    {
     "ename": "KeyboardInterrupt",
     "evalue": "",
     "output_type": "error",
     "traceback": [
      "\u001b[1;31m---------------------------------------------------------------------------\u001b[0m",
      "\u001b[1;31mKeyboardInterrupt\u001b[0m                         Traceback (most recent call last)",
      "Cell \u001b[1;32mIn[64], line 2\u001b[0m\n\u001b[0;32m      1\u001b[0m app \u001b[39m=\u001b[39m App()\n\u001b[1;32m----> 2\u001b[0m app\u001b[39m.\u001b[39;49mmainloop()\n",
      "File \u001b[1;32mc:\\Python311\\Lib\\site-packages\\customtkinter\\windows\\ctk_tk.py:163\u001b[0m, in \u001b[0;36mCTk.mainloop\u001b[1;34m(self, *args, **kwargs)\u001b[0m\n\u001b[0;32m    159\u001b[0m             \u001b[39mself\u001b[39m\u001b[39m.\u001b[39mdeiconify()\n\u001b[0;32m    161\u001b[0m     \u001b[39mself\u001b[39m\u001b[39m.\u001b[39m_window_exists \u001b[39m=\u001b[39m \u001b[39mTrue\u001b[39;00m\n\u001b[1;32m--> 163\u001b[0m \u001b[39msuper\u001b[39;49m()\u001b[39m.\u001b[39;49mmainloop(\u001b[39m*\u001b[39;49margs, \u001b[39m*\u001b[39;49m\u001b[39m*\u001b[39;49mkwargs)\n",
      "File \u001b[1;32mc:\\Python311\\Lib\\tkinter\\__init__.py:1485\u001b[0m, in \u001b[0;36mMisc.mainloop\u001b[1;34m(self, n)\u001b[0m\n\u001b[0;32m   1483\u001b[0m \u001b[39mdef\u001b[39;00m \u001b[39mmainloop\u001b[39m(\u001b[39mself\u001b[39m, n\u001b[39m=\u001b[39m\u001b[39m0\u001b[39m):\n\u001b[0;32m   1484\u001b[0m     \u001b[39m\"\"\"Call the mainloop of Tk.\"\"\"\u001b[39;00m\n\u001b[1;32m-> 1485\u001b[0m     \u001b[39mself\u001b[39;49m\u001b[39m.\u001b[39;49mtk\u001b[39m.\u001b[39;49mmainloop(n)\n",
      "\u001b[1;31mKeyboardInterrupt\u001b[0m: "
     ]
    }
   ],
   "source": [
    "app = App()\n",
    "app.mainloop()"
   ]
  }
 ],
 "metadata": {
  "kernelspec": {
   "display_name": "Python 3",
   "language": "python",
   "name": "python3"
  },
  "language_info": {
   "codemirror_mode": {
    "name": "ipython",
    "version": 3
   },
   "file_extension": ".py",
   "mimetype": "text/x-python",
   "name": "python",
   "nbconvert_exporter": "python",
   "pygments_lexer": "ipython3",
   "version": "3.11.0"
  },
  "orig_nbformat": 4
 },
 "nbformat": 4,
 "nbformat_minor": 2
}
