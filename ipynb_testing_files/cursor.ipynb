{
 "cells": [
  {
   "cell_type": "markdown",
   "metadata": {},
   "source": [
    "# Cursors"
   ]
  },
  {
   "cell_type": "code",
   "execution_count": null,
   "metadata": {},
   "outputs": [],
   "source": [
    "from PIL import Image, ImageDraw, ImageFont\n",
    "\n",
    "class cursor():\n",
    "    # class variables\n",
    "    name = None\n",
    "    cursor_type = None\n",
    "    index = None\n",
    "    target = None\n",
    "    image = None\n",
    "    limit = None\n",
    "    shift = None\n",
    "    target_image = None\n",
    "    target_list = None\n",
    "    selection_layer = None\n",
    "    spacing = 10\n",
    "    font = None\n",
    "    position = (10, 45)\n",
    "\n",
    "\n",
    "    def __init__(self, name=\"unnamed\", cursor_type=\"None\", index=0, target_list = [], target=\"None\") -> None:\n",
    "        self.name = name\n",
    "        self.cursor_type = cursor_type\n",
    "        self.index = index\n",
    "        self.shift = index\n",
    "        self.target_list = target_list\n",
    "        self.target = None\n",
    "        self.limit = 6\n",
    "        # self.font = ImageFont.truetype(\"/usr/share/fonts/truetype/dejavu/DejaVuSans.ttf\", 12)\n",
    "        \n",
    "        # initialize the selection_layer to be a new transparent image. \n",
    "        self.image = Image.new(\"RGBA\", size=(320,240), color=(0,0,0,0))\n",
    "\n",
    "    def cursor_up(self):\n",
    "        self.index += 1\n",
    "\n",
    "        # check if we need to shift\n",
    "        if (self.index > self.shift + self.limit):\n",
    "            self.shift_up(target_list)\n",
    "\n",
    "        # redraw the selection box to index - shift\n",
    "        self.draw_selection_box()\n",
    "\n",
    "    def cursor_dn(self):\n",
    "        self.index -= 1\n",
    "\n",
    "        self.index += 1\n",
    "\n",
    "        # check if we need to shift\n",
    "        if (self.index < self.shift):\n",
    "            self.shift_dn(self.target_list)\n",
    "\n",
    "        # redraw the selection box to index - shift\n",
    "        self.draw_selection_box()\n",
    "    \n",
    "    def shift_up(self, target_list = []): # shifts the target_list upward\n",
    "        self.shift -= 1\n",
    "        # redraw the target_list\n",
    "        self.draw_target_list(target_list)\n",
    "        pass\n",
    "    \n",
    "    \n",
    "    def shift_dn(self, target_list = []): # shifts the target_list downward\n",
    "        self.shift += 1\n",
    "        self.draw_target_list(target_list)\n",
    "        pass\n",
    "\n",
    "    def get_image(self):\n",
    "        self.image = Image.new(\"RGBA\", size=(320,240), color=(0,0,0,0))\n",
    "        self.image.paste(im=self.target_image, (0,0))\n",
    "        self.image.paste(self.selection_layer, (0,0))\n",
    "        # self.image.show()\n",
    "        return self.image\n",
    "\n",
    "    def draw_target_list(self, target_list = []):\n",
    "        if (target_list == []):\n",
    "            target_list = [\"Trackname\"] * self.limit\n",
    "        \n",
    "        # reset the image\n",
    "        self.target_image =  Image.new(\"RGBA\", size=(320,240), color=(0,0,0,0))\n",
    "\n",
    "        target_string = \"\\n\".join(target_list)\n",
    "\n",
    "        # draw the multiline target_list\n",
    "        draw = ImageDraw.Draw(self.target_image)\n",
    "\n",
    "        draw.text(self.position, target_string, font = self.font, spacing = self.spacing)\n",
    "        \n",
    "        # self.target_image.show()\n",
    "        return self.target_image\n",
    "        \n",
    "\n",
    "\n",
    "    def draw_selection_box(self):\n",
    "        self.selection_layer = Image.new(\"RGBA\", (320,240), (0,0,0,0))\n",
    "        \n",
    "        # draw the multiline target_list\n",
    "        draw = ImageDraw.Draw(self.selection_layer)\n",
    "\n",
    "        slot = self.index - self.shift\n",
    "        pos = [0, (slot * 20) + 40, 320, ((slot+1) * 20) + 40]\n",
    "        # \n",
    "        draw.rectangle(pos, fill = (194,194,194,0), outline=(0,0,0,0), width =1)\n",
    "        # self.selection_layer.show()\n",
    "        return self.selection_layer\n"
   ]
  },
  {
   "cell_type": "code",
   "execution_count": null,
   "metadata": {},
   "outputs": [],
   "source": [
    "c = cursor()"
   ]
  },
  {
   "cell_type": "code",
   "execution_count": null,
   "metadata": {},
   "outputs": [],
   "source": [
    "c.draw_target_list()"
   ]
  },
  {
   "cell_type": "code",
   "execution_count": null,
   "metadata": {},
   "outputs": [],
   "source": [
    "c.draw_selection_box()"
   ]
  },
  {
   "cell_type": "code",
   "execution_count": null,
   "metadata": {},
   "outputs": [],
   "source": [
    "c.get_image()"
   ]
  },
  {
   "cell_type": "code",
   "execution_count": null,
   "metadata": {},
   "outputs": [],
   "source": [
    "# Testing\n",
    "import spi_screen as disp\n",
    "import cursor\n",
    "d = Display()\n",
    "c = cursor.cursor()\n",
    "# tgt_list = c.draw_target_list()\n",
    "# d.display_image(tgt_list)\n",
    "\n",
    "# selection = c.draw_selection_box()\n",
    "# d.display_image(selection)\n",
    "\n",
    "\n",
    "d.display_image(c.get_image())\n",
    "d.display_image(c.cursor_dn())\n",
    "d.display_image(c.cursor_dn())\n"
   ]
  }
 ],
 "metadata": {
  "kernelspec": {
   "display_name": "Python 3",
   "language": "python",
   "name": "python3"
  },
  "language_info": {
   "codemirror_mode": {
    "name": "ipython",
    "version": 3
   },
   "file_extension": ".py",
   "mimetype": "text/x-python",
   "name": "python",
   "nbconvert_exporter": "python",
   "pygments_lexer": "ipython3",
   "version": "3.11.0"
  },
  "orig_nbformat": 4
 },
 "nbformat": 4,
 "nbformat_minor": 2
}
