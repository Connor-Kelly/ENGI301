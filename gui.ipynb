{
 "cells": [
  {
   "cell_type": "code",
   "execution_count": null,
   "metadata": {},
   "outputs": [],
   "source": [
    "class GUI():\n",
    "    # class vars\n",
    "    base_gui_image = None\n",
    "    cursor = None\n",
    "    display = None\n",
    "    pin_button_up = \"P2_17\"\n",
    "    pin_button_down = \"P2_22\"\n",
    "    pin_button_select = \"P2_24\"\n",
    "    button_up = None\n",
    "    button_down = None\n",
    "    button_select = None\n",
    "\n",
    "    def __init__(self):\n",
    "        self.cursor = Cursor()\n",
    "        self.display = Display()\n",
    "\n",
    "        # assumes that all buttons are momentary and are active-low\n",
    "        self.button_up = EventButton(pin_button_up, GPIO.FALLING, gui_up)\n",
    "        self.button_down = EventButton(pin_button_down, GPIO.FALLING, gui_dn)\n",
    "        self.button_select = EventButton(pin_button_select, GPIO.FALLING, gui_select)\n",
    "        pass\n",
    "\n",
    "    def _setup(self):\n",
    "        pass\n",
    "    \n",
    "    def gui_up(self):\n",
    "        print(\"gui up\")\n",
    "        d.display_image(c.cursor_up())\n",
    "\n",
    "    def gui_dn(self):\n",
    "        print(\"gui down\")\n",
    "        d.display_image(c.cursor_dn())\n",
    "    \n",
    "    def gui_select(self):\n",
    "        print(\"gui select\")\n",
    "        selection = c.cursor_select()\n",
    "        print(\"selection: %s\"%str(selection))"
   ]
  }
 ],
 "metadata": {
  "language_info": {
   "name": "python"
  },
  "orig_nbformat": 4
 },
 "nbformat": 4,
 "nbformat_minor": 2
}
