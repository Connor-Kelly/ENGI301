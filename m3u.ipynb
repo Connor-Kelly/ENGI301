{
 "cells": [
  {
   "attachments": {},
   "cell_type": "markdown",
   "metadata": {},
   "source": [
    "# refs:\n",
    "https://www.lifewire.com/m3u-file-2621955\n",
    "https://github.com/Beer4Ever83/ipytv"
   ]
  },
  {
   "cell_type": "code",
   "execution_count": null,
   "metadata": {},
   "outputs": [],
   "source": [
    "# to parse the .m3u file, we will be using the following lib:\n",
    "from ipytv import playlist"
   ]
  },
  {
   "cell_type": "code",
   "execution_count": null,
   "metadata": {},
   "outputs": [],
   "source": [
    "file = \"/home/vboxuser/.moc/playlist.m3u\"\n",
    "pl = playlist.loadf(file)\n",
    "# this pl is a ipytv.playlist.M3UPlaylist object, and printing it's string gives the following\n"
   ]
  },
  {
   "cell_type": "code",
   "execution_count": null,
   "metadata": {},
   "outputs": [],
   "source": [
    "# gets the playlist length\n",
    "pl.length()\n",
    "\n",
    "# gets the 4th channel/song in the playlist\n",
    "pl.get_channel(3)\n",
    "\n",
    "file_playlist = []\n",
    "for i in range(pl.length()):\n",
    "    file_playlist.append(pl.get_channel(i).name)\n",
    "\n",
    "names = list(x.split(\"/\")[-1] for x in file_playlist)\n",
    "print(names)\n",
    "\n",
    "# names : ['let-it-go-12279.mp3', 'weeknds-122592.mp3', 'moment-14023.mp3', 'SoulProdMusic - Smoke (Smoke)']\n",
    "\n"
   ]
  },
  {
   "cell_type": "code",
   "execution_count": null,
   "metadata": {},
   "outputs": [],
   "source": [
    "def get_playlist_namelist(pl):\n",
    "    file_playlist = []\n",
    "    for i in range(pl.length()):\n",
    "        file_playlist.append(pl.get_channel(i).name)\n",
    "    # \n",
    "    names = list(x.split(\"/\")[-1] for x in file_playlist)\n",
    "    return names"
   ]
  }
 ],
 "metadata": {
  "language_info": {
   "name": "python"
  },
  "orig_nbformat": 4
 },
 "nbformat": 4,
 "nbformat_minor": 2
}
