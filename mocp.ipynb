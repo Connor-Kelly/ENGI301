{
 "cells": [
  {
   "cell_type": "code",
   "execution_count": null,
   "metadata": {
    "vscode": {
     "languageId": "shellscript"
    }
   },
   "outputs": [],
   "source": [
    "# runs mocp in terminal\n",
    "mocp"
   ]
  },
  {
   "cell_type": "code",
   "execution_count": null,
   "metadata": {
    "vscode": {
     "languageId": "shellscript"
    }
   },
   "outputs": [],
   "source": [
    "mocp -Q \"%state?%file?%title?%artist\\n\"\n",
    "# %state     State\n",
    "# %file      File\n",
    "# %title     Title\n",
    "# %artist    Artist\n",
    "# %song      SongTitle\n",
    "# %album     Album\n",
    "# %tt        TotalTime\n",
    "# %tl        TimeLeft\n",
    "# %ts        TotalSec\n",
    "# %ct        CurrentTime\n",
    "# %cs        CurrentSec\n",
    "# %b         Bitrate\n",
    "# %r         Rate"
   ]
  },
  {
   "attachments": {},
   "cell_type": "markdown",
   "metadata": {},
   "source": [
    "above returns a string like: \\\n",
    "mocp -Q \"%state?%file?%title?%artist\\n\" -> \n",
    "```\n",
    "PAUSE?/home/vboxuser/ENGI301/project_01/sample_music/let-it-go-12279.mp3??\n",
    "```"
   ]
  },
  {
   "cell_type": "code",
   "execution_count": 6,
   "metadata": {},
   "outputs": [
    {
     "name": "stdout",
     "output_type": "stream",
     "text": [
      "State: PAUSE\n",
      "File: /home/vboxuser/ENGI301/project_01/sample_music/let-it-go-12279.mp3\n",
      "Title: \n",
      "Atist: \n"
     ]
    }
   ],
   "source": [
    "import re\n",
    "\n",
    "testString = \"PAUSE?/home/vboxuser/ENGI301/project_01/sample_music/let-it-go-12279.mp3??\"\n",
    "\n",
    "arr = testString.split(\"?\")\n",
    "state = arr[0]\n",
    "print(\"State: %s\"%state)\n",
    "file = arr[1]\n",
    "print(\"File: %s\"%file)\n",
    "title = arr[2]\n",
    "print(\"Title: %s\"%title)\n",
    "artist = arr[3]\n",
    "print(\"Atist: %s\"%artist)\n",
    "\n"
   ]
  }
 ],
 "metadata": {
  "kernelspec": {
   "display_name": "Python 3",
   "language": "python",
   "name": "python3"
  },
  "language_info": {
   "codemirror_mode": {
    "name": "ipython",
    "version": 3
   },
   "file_extension": ".py",
   "mimetype": "text/x-python",
   "name": "python",
   "nbconvert_exporter": "python",
   "pygments_lexer": "ipython3",
   "version": "3.11.0"
  },
  "orig_nbformat": 4
 },
 "nbformat": 4,
 "nbformat_minor": 2
}
